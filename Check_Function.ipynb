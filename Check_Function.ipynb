{
  "cells": [
    {
      "cell_type": "code",
      "execution_count": null,
      "metadata": {
        "id": "xg9WE6PZI9g8"
      },
      "outputs": [],
      "source": [
        "import sys"
      ]
    },
    {
      "cell_type": "code",
      "execution_count": null,
      "metadata": {
        "id": "kFlgkseOU3jf"
      },
      "outputs": [],
      "source": [
        "def read_input(file_name):\n",
        "    with open(file_name, \"r\") as f:\n",
        "        # Read number of stellar crystals\n",
        "        N = int(f.readline().strip())\n",
        "        stellar_crystals = []\n",
        "        for _ in range(N):\n",
        "            x, y, value = map(int, f.readline().strip().split())\n",
        "            stellar_crystals.append((x, y, value))\n",
        "\n",
        "        # Read number of void mines\n",
        "        M = int(f.readline().strip())\n",
        "        void_mines = []\n",
        "        for _ in range(M):\n",
        "            x, y, value = map(int, f.readline().strip().split())\n",
        "            # Multiply void mine value by -1 as specified\n",
        "            void_mines.append((x, y, -1 * value))\n",
        "\n",
        "    return stellar_crystals, void_mines"
      ]
    },
    {
      "cell_type": "code",
      "execution_count": null,
      "metadata": {
        "id": "WU9V2rqEU-xL"
      },
      "outputs": [],
      "source": [
        "def get_polygon_vertices(polygon_edges):\n",
        "    if not polygon_edges:\n",
        "        return []\n",
        "    # Start with the first vertex of the first edge\n",
        "    vertices = [polygon_edges[0][0]]\n",
        "    for edge in polygon_edges:\n",
        "        # Append the ending vertex of each edge (if not already added)\n",
        "        if edge[1] != vertices[-1]:\n",
        "            vertices.append(edge[1])\n",
        "    # Ensure the polygon is closed: last vertex should equal the first\n",
        "    if vertices[0] != vertices[-1]:\n",
        "        vertices.append(vertices[0])\n",
        "    return vertices"
      ]
    },
    {
      "cell_type": "code",
      "execution_count": null,
      "metadata": {
        "id": "pu3BVLjOVD8z"
      },
      "outputs": [],
      "source": [
        "# Block 3: Point-in-polygon check\n",
        "# First, a helper to check if a point lies exactly on a line segment.\n",
        "def point_on_line(x, y, x1, y1, x2, y2):\n",
        "    # For axis-aligned edges, simply check if the point is collinear and within bounds.\n",
        "    if x1 == x2:  # vertical edge\n",
        "        if x == x1 and min(y1, y2) <= y <= max(y1, y2):\n",
        "            return True\n",
        "    elif y1 == y2:  # horizontal edge\n",
        "        if y == y1 and min(x1, x2) <= x <= max(x1, x2):\n",
        "            return True\n",
        "    return False"
      ]
    },
    {
      "cell_type": "code",
      "execution_count": null,
      "metadata": {
        "id": "aT50adFnVD5k"
      },
      "outputs": [],
      "source": [
        "# Next, the robust point-in-polygon function.\n",
        "def point_in_polygon(x, y, vertices):\n",
        "    n = len(vertices)\n",
        "    # First, check if the point lies on any edge (boundary check)\n",
        "    for i in range(n - 1):  # vertices[-1] is the same as vertices[0]\n",
        "        x1, y1 = vertices[i]\n",
        "        x2, y2 = vertices[i + 1]\n",
        "        if point_on_line(x, y, x1, y1, x2, y2):\n",
        "            return True\n",
        "\n",
        "    # Use the ray-casting algorithm for interior points.\n",
        "    inside = False\n",
        "    for i in range(n - 1):\n",
        "        x1, y1 = vertices[i]\n",
        "        x2, y2 = vertices[i + 1]\n",
        "        # Check if the horizontal ray from (x, y) intersects with the edge.\n",
        "        if (y1 > y) != (y2 > y):\n",
        "            # Compute x-coordinate of the intersection point\n",
        "            intersect_x = x1 + (y - y1) * (x2 - x1) / (y2 - y1)\n",
        "            if x < intersect_x:\n",
        "                inside = not inside\n",
        "    return inside"
      ]
    },
    {
      "cell_type": "code",
      "execution_count": null,
      "metadata": {
        "id": "pkve9FhQVD2f"
      },
      "outputs": [],
      "source": [
        "# Block 4: Compute the final percentage.\n",
        "def compute_final_percentage(stellar_crystals, void_mines, polygon_edges, polygon_valid):\n",
        "    # If polygon is invalid, set check_value to 0.\n",
        "    if not polygon_valid:\n",
        "        check_value = 0\n",
        "    else:\n",
        "        # Reconstruct the polygon vertices.\n",
        "        vertices = get_polygon_vertices(polygon_edges)\n",
        "        check_value = 0\n",
        "        # Check each stellar crystal.\n",
        "        for (x, y, value) in stellar_crystals:\n",
        "            if point_in_polygon(x, y, vertices):\n",
        "                check_value += value\n",
        "        # Check each void mine (its value is negative as read).\n",
        "        for (x, y, value) in void_mines:\n",
        "            if point_in_polygon(x, y, vertices):\n",
        "                check_value += value\n",
        "\n",
        "    # Total value is the sum of the stellar crystal values.\n",
        "    total_value = sum(value for (_, _, value) in stellar_crystals)\n",
        "    # Avoid division by zero.\n",
        "    percentage = (check_value / total_value * 100) if total_value != 0 else 0\n",
        "    print(\"Final verified value is {:.2f} \".format(check_value))\n",
        "    print(\"Final Percentage: {:.2f}%\".format(percentage))\n",
        "    print(\"Total Value Possible: {:.2f}\".format(total_value))\n",
        "    return percentage"
      ]
    },
    {
      "cell_type": "markdown",
      "metadata": {
        "id": "RMzaqPuaVbkb"
      },
      "source": [
        "###Submission Reading"
      ]
    },
    {
      "cell_type": "code",
      "execution_count": null,
      "metadata": {
        "id": "QEtDj8M5FKzm"
      },
      "outputs": [],
      "source": [
        "def read_submission(file_path):\n",
        "    with open(file_path, 'r') as f:\n",
        "        lines = f.readlines()\n",
        "\n",
        "    # Read net value (cost), number of vertices (V), and number of edges (E)\n",
        "    net_value = int(lines[0].strip())\n",
        "    V, E = map(int, lines[1].split(','))\n",
        "\n",
        "    # Read polygon edges\n",
        "    edges = []\n",
        "    for i in range(2, 2 + E):\n",
        "        line = lines[i].strip()\n",
        "\n",
        "        # Ensure line follows the format \"(x1,y1), (x2,y2)\"\n",
        "        if not (line.startswith('(') and line.endswith(')')):\n",
        "            raise ValueError(f\"Invalid edge format on line {i + 1}: {line}\")\n",
        "\n",
        "        try:\n",
        "            edge_parts = line.split('), (')  # Splitting at edge separators\n",
        "\n",
        "            # Removing parentheses\n",
        "            edge_parts[0] = edge_parts[0].replace('(', '')\n",
        "            edge_parts[1] = edge_parts[1].replace(')', '')\n",
        "\n",
        "            # Parsing float values\n",
        "            x1, y1 = map(float, edge_parts[0].split(', '))\n",
        "            x2, y2 = map(float, edge_parts[1].split(', '))\n",
        "\n",
        "            edges.append(((x1, y1), (x2, y2)))\n",
        "\n",
        "        except (ValueError, IndexError):\n",
        "            raise ValueError(f\"Edge format incorrect on line {i + 1}: {line}\")\n",
        "\n",
        "    return net_value, V, E, edges"
      ]
    },
    {
      "cell_type": "code",
      "execution_count": null,
      "metadata": {
        "id": "cp8WeBLlpycE"
      },
      "outputs": [],
      "source": [
        "def make_edges_cyclic(edges, epsilon=1e-9):\n",
        "    def points_equal(p1, p2):\n",
        "        return (abs(p1[0] - p2[0]) < epsilon and\n",
        "                abs(p1[1] - p2[1]) < epsilon)\n",
        "\n",
        "    if not edges:\n",
        "        return edges.copy()\n",
        "\n",
        "    remaining_edges = edges.copy()\n",
        "    ordered_edges = []\n",
        "\n",
        "    # Start with the first edge\n",
        "    first_edge = remaining_edges.pop(0)\n",
        "    ordered_edges.append(first_edge)\n",
        "    current_end = first_edge[1]\n",
        "\n",
        "    while remaining_edges:\n",
        "        found = False\n",
        "        for i in range(len(remaining_edges)):\n",
        "            edge = remaining_edges[i]\n",
        "            if points_equal(edge[0], current_end):\n",
        "                # Add the edge as is\n",
        "                ordered_edges.append(edge)\n",
        "                current_end = edge[1]\n",
        "                remaining_edges.pop(i)\n",
        "                found = True\n",
        "                break\n",
        "            elif points_equal(edge[1], current_end):\n",
        "                # Reverse the edge and add\n",
        "                reversed_edge = (edge[1], edge[0])\n",
        "                ordered_edges.append(reversed_edge)\n",
        "                current_end = reversed_edge[1]\n",
        "                remaining_edges.pop(i)\n",
        "                found = True\n",
        "                break\n",
        "        if not found:\n",
        "            raise ValueError(\"Edges do not form a closed polygon\")\n",
        "\n",
        "    # Verify the cycle is closed\n",
        "    if not points_equal(current_end, ordered_edges[0][0]):\n",
        "        raise ValueError(\"Edges do not form a closed cycle\")\n",
        "\n",
        "    return ordered_edges\n"
      ]
    },
    {
      "cell_type": "code",
      "execution_count": null,
      "metadata": {
        "id": "bseksSHMI9Cy"
      },
      "outputs": [],
      "source": [
        "def check_max_vertices(V,E,max_vertices=1000):\n",
        "    return V <= max_vertices and E<=max_vertices and V==E"
      ]
    },
    {
      "cell_type": "code",
      "execution_count": null,
      "metadata": {
        "id": "2IvNJlJeKr82"
      },
      "outputs": [],
      "source": [
        "def do_edges_intersect(e1, e2):\n",
        "    (x1, y1), (x2, y2) = e1\n",
        "    (x3, y3), (x4, y4) = e2\n",
        "\n",
        "    def on_segment(px, py, qx, qy, rx, ry):\n",
        "        return min(px, qx) <= rx <= max(px, qx) and min(py, qy) <= ry <= max(py, qy)\n",
        "\n",
        "    if e1 == e2:\n",
        "        return False\n",
        "\n",
        "    if (x1 == x2 and x3 == x4) or (y1 == y2 and y3 == y4):\n",
        "        return not (max(x1, x3) > min(x2, x4) or max(y1, y3) > min(y2, y4))\n",
        "\n",
        "    return on_segment(x1, y1, x2, y2, x3, y3) or on_segment(x1, y1, x2, y2, x4, y4)"
      ]
    },
    {
      "cell_type": "code",
      "execution_count": null,
      "metadata": {
        "id": "VBNnJxR7JJlo"
      },
      "outputs": [],
      "source": [
        "def check_non_self_intersecting(edges):\n",
        "        # Ensure the polygon is closed (first and last edge connect)\n",
        "    n = len(edges)\n",
        "    for i in range(n):\n",
        "        (x1, y1), (x2, y2) = edges[i]\n",
        "        (nx1, ny1), (nx2, ny2) = edges[(i + 1) % n]  # Next edge (wraps around)\n",
        "        if (x2, y2) != (nx1, ny1):\n",
        "            return False  # Adjacent edges must meet at their endpoints\n",
        "\n",
        "# Check for non-adjacent intersections\n",
        "    for i in range(n):\n",
        "        for j in range(i + 2, n - (i == 0)):  # Skip adjacent edges\n",
        "            if do_edges_intersect(edges[i], edges[j]):\n",
        "                return False\n",
        "\n",
        "    return True\n",
        "\n",
        "\n",
        "\n",
        "    # for i in range(len(edges)):\n",
        "    #     (x1, y1), (x2, y2) = edges[i]\n",
        "    #     if i < len(edges) - 1:\n",
        "    #         (nx1, ny1), (nx2, ny2) = edges[i + 1]\n",
        "    #         if (x2, y2) != (nx1, ny1):\n",
        "    #             return False  # Adjacent edges must meet at their endpoints\n",
        "    #     for j in range(len(edges)):\n",
        "    #         if abs(i - j) > 1 and do_edges_intersect(edges[i], edges[j]) and abs(i-j)!=(len(edges)-1):\n",
        "    #             return False\n",
        "    # return True\n"
      ]
    },
    {
      "cell_type": "code",
      "execution_count": null,
      "metadata": {
        "id": "S2ZuCHPMK6wY"
      },
      "outputs": [],
      "source": [
        "def check_axis_aligned(edges):\n",
        "    for (x1, y1), (x2, y2) in edges:\n",
        "        if not (x1 == x2 or y1 == y2):\n",
        "            return False  # Edge must be either horizontal or vertical\n",
        "    return True"
      ]
    },
    {
      "cell_type": "code",
      "execution_count": null,
      "metadata": {
        "id": "i8p_gPl5LT90"
      },
      "outputs": [],
      "source": [
        "def validate_solution(net_value, V, E, edges):\n",
        "    if not check_max_vertices(V,E):\n",
        "        print(\"Invalid: Exceeds maximum allowed vertices (1000) or vertices not equal to number of edges.\")\n",
        "        return False\n",
        "\n",
        "    if not check_non_self_intersecting(edges):\n",
        "        print(\"Invalid: Polygon is self-intersecting.\")\n",
        "        return False\n",
        "\n",
        "    if not check_axis_aligned(edges):\n",
        "        print(\"Invalid: Polygon edges are not axis-aligned.\")\n",
        "        return False\n",
        "\n",
        "    print(\"Valid solution.\")\n",
        "    return True"
      ]
    },
    {
      "cell_type": "code",
      "execution_count": null,
      "metadata": {
        "colab": {
          "base_uri": "https://localhost:8080/"
        },
        "id": "KtR3IQugLXps",
        "outputId": "9c1e426c-35f3-41f7-c2f8-ea5f2e74976f"
      },
      "outputs": [
        {
          "output_type": "stream",
          "name": "stdout",
          "text": [
            "Valid solution.\n",
            "Final verified value is 3218.00 \n",
            "Final Percentage: 0.03%\n",
            "Total Value Possible: 10308572.00\n"
          ]
        }
      ],
      "source": [
        "if __name__ == \"__main__\":\n",
        "  # for i in range(10):  # Loop from 0 to 9\n",
        "  #   input_file = f\"input{i:02d}.txt\"  # Format the input file name (e.g., input00.txt, input01.txt, etc.)\n",
        "  #   output_file = f\"outputy{i:02d}.txt\"  # Format the output file name (e.g., outputy00.txt, outputy01.txt, etc.)\n",
        "\n",
        "  #   # Read the submission file\n",
        "  #   net_value, V, E, edges = read_submission(output_file)\n",
        "\n",
        "  #   # Make edges cyclic\n",
        "  #   edges = make_edges_cyclic(edges)\n",
        "\n",
        "  #   # Validate the solution\n",
        "  #   polygon_valid = validate_solution(net_value, V, E, edges)\n",
        "\n",
        "  #   # Read the input file\n",
        "  #   stellar_crystals, void_mines = read_input(input_file)\n",
        "\n",
        "  #   # Compute the final percentage\n",
        "  #   compute_final_percentage(stellar_crystals, void_mines, edges, polygon_valid)\n",
        "\n",
        "\n",
        "    net_value, V, E, edges = read_submission(\"output00.txt\")\n",
        "    edges = make_edges_cyclic(edges)\n",
        "    polygon_valid = validate_solution(net_value,V,E,edges)\n",
        "\n",
        "    polygon_edges = edges\n",
        "    stellar_crystals, void_mines = read_input(\"input00.txt\")\n",
        "    compute_final_percentage(stellar_crystals, void_mines, polygon_edges, polygon_valid)"
      ]
    },
    {
      "cell_type": "code",
      "execution_count": null,
      "metadata": {
        "colab": {
          "background_save": true
        },
        "id": "pBuxKYVamvCF"
      },
      "outputs": [],
      "source": []
    }
  ],
  "metadata": {
    "accelerator": "GPU",
    "colab": {
      "gpuType": "T4",
      "provenance": []
    },
    "kernelspec": {
      "display_name": "Python 3",
      "name": "python3"
    },
    "language_info": {
      "name": "python"
    }
  },
  "nbformat": 4,
  "nbformat_minor": 0
}